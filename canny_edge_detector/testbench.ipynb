{
 "cells": [
  {
   "cell_type": "code",
   "execution_count": 9,
   "metadata": {},
   "outputs": [],
   "source": [
    "from scipy.signal import convolve2d\n",
    "import numpy as np\n",
    "from math import atan, degrees"
   ]
  },
  {
   "cell_type": "code",
   "execution_count": 25,
   "metadata": {},
   "outputs": [
    {
     "name": "stdout",
     "output_type": "stream",
     "text": [
      "[[  0.   0.   0.   0.]\n",
      " [  0. 297. 229.   0.]\n",
      " [  0. 385.  98.   0.]\n",
      " [  0.   0.   0.   0.]]\n"
     ]
    }
   ],
   "source": [
    "def s(r,t):\n",
    "    q = []\n",
    "    for i in range(r,r+y.shape[0]):\n",
    "        w = []\n",
    "        for j in range(t,t+y.shape[0]):\n",
    "            w.append(x[i][j])\n",
    "        q.append(w)\n",
    "        \n",
    "    q = np.array(q)\n",
    "    return q\n",
    "\n",
    "output = np.zeros(x.shape)\n",
    "start_x = start_y = 1\n",
    "for i in range(len(x)-len(y)+1):\n",
    "    for j in range(len(x)-len(y)+1):\n",
    "        output[start_x,start_y] = (s(start_x-1,start_y-1)*y).sum()\n",
    "        start_y += 1\n",
    "    start_x += 1\n",
    "    start_y = 1\n",
    "\n",
    "print(output)"
   ]
  },
  {
   "cell_type": "code",
   "execution_count": 14,
   "metadata": {},
   "outputs": [
    {
     "name": "stdout",
     "output_type": "stream",
     "text": [
      "[[  0.           0.           0.           0.        ]\n",
      " [  0.          -4.42820884  -7.21737916   0.        ]\n",
      " [  0.         -24.07285875 -61.69924423   0.        ]\n",
      " [  0.           0.           0.           0.        ]]\n"
     ]
    }
   ],
   "source": [
    "x = np.array([[120,125,212,239],\n",
    "               [90,100,180,200],\n",
    "               [85,195,200,210],\n",
    "               [75,212,255,195]])\n",
    "y = np.array([[-1,0,1],\n",
    "               [-1,0,1],\n",
    "               [-1,0,1]])\n",
    "z = np.array([[1,1,1],\n",
    "               [0,0,0],\n",
    "               [-1,-1,-1]])\n",
    "lap_x = np.array([[4,4,12,12,12],\n",
    "               [4,4,12,12,12],\n",
    "               [4,4,12,12,12],\n",
    "               [4,4,8,8,8],\n",
    "               [4,4,8,8,8]])\n",
    "lap = np.array([[0,1,0],\n",
    "                [1,-4,1],\n",
    "                [0,1,0]])\n",
    "\n",
    "def slice_array(array, start_x, start_y, filter_shape):\n",
    "        slice = []\n",
    "        for itr_i in range(start_x, start_x+filter_shape):\n",
    "            row = []\n",
    "            for itr_j in range(start_y, start_y+filter_shape):\n",
    "                row.append(array[itr_i][itr_j])\n",
    "            slice.append(row)\n",
    "            \n",
    "        return np.array(slice)\n",
    "    \n",
    "def convolution(x, y):\n",
    "    output = np.zeros(x.shape)\n",
    "    start_x = start_y = 1\n",
    "    for i in range(x.shape[0]-len(y)+1):\n",
    "        for j in range(x.shape[1]-len(y)+1):\n",
    "            output[start_x,start_y] = (slice_array(x, start_x-1, start_y-1, y.shape[0])*y).sum()\n",
    "            start_y += 1\n",
    "        start_x += 1\n",
    "        start_y = 1\n",
    "\n",
    "    return output\n",
    "\n",
    "def angle_calc(gradient_magnitude, gradient_x, gradient_y):\n",
    "    gradient_angle = np.zeros(gradient_magnitude.shape)\n",
    "    for itr_x in range(gradient_angle.shape[0]):\n",
    "        for itr_y in range(gradient_angle.shape[1]):\n",
    "            if gradient_x[itr_x][itr_y] != 0:\n",
    "                gradient_angle[itr_x][itr_y] = degrees(atan(gradient_y[itr_x][itr_y]/gradient_x[itr_x][itr_y]))\n",
    "            else:\n",
    "                gradient_angle[itr_x][itr_y] = 0\n",
    "    return gradient_angle\n",
    "\n",
    "f=convolution(x,y)\n",
    "g=convolution(x,z)\n",
    "ang = angle_calc(x,f,g)\n",
    "print(ang)\n",
    "# print(convolution(lap_x,lap))"
   ]
  },
  {
   "cell_type": "code",
   "execution_count": null,
   "metadata": {},
   "outputs": [],
   "source": []
  }
 ],
 "metadata": {
  "interpreter": {
   "hash": "b0f2762f1d098e732f35add6c7ad025c7ca4922762fcb5723f09a1ba41f47ee7"
  },
  "kernelspec": {
   "display_name": "Python 3.7.0 64-bit ('hybrid': conda)",
   "name": "python3"
  },
  "language_info": {
   "codemirror_mode": {
    "name": "ipython",
    "version": 3
   },
   "file_extension": ".py",
   "mimetype": "text/x-python",
   "name": "python",
   "nbconvert_exporter": "python",
   "pygments_lexer": "ipython3",
   "version": "3.7.0"
  },
  "orig_nbformat": 4
 },
 "nbformat": 4,
 "nbformat_minor": 2
}
